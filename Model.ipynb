{
 "cells": [
  {
   "cell_type": "code",
   "execution_count": 217,
   "id": "12ce54a3",
   "metadata": {},
   "outputs": [],
   "source": [
    "from sklearn.ensemble import RandomForestClassifier\n",
    "from xgboost.sklearn import XGBClassifier\n",
    "from sklearn.svm import LinearSVC \n",
    "from sklearn.model_selection import train_test_split\n",
    "from sklearn.model_selection import cross_val_score\n",
    "from sklearn.metrics import accuracy_score\n",
    "import pandas as pd"
   ]
  },
  {
   "cell_type": "code",
   "execution_count": 218,
   "id": "2bfb1c6d",
   "metadata": {},
   "outputs": [],
   "source": [
    "model_RFC = RandomForestClassifier(n_estimators=100, random_state=1) "
   ]
  },
  {
   "cell_type": "code",
   "execution_count": 219,
   "id": "aa75573d",
   "metadata": {},
   "outputs": [],
   "source": [
    "model_XGB = XGBClassifier(objective='multi:softmax',n_estimators=100)"
   ]
  },
  {
   "cell_type": "code",
   "execution_count": 220,
   "id": "b02cd21f",
   "metadata": {},
   "outputs": [],
   "source": [
    "model_SVM = LinearSVC(random_state=0)"
   ]
  },
  {
   "cell_type": "code",
   "execution_count": 221,
   "id": "fef2be87",
   "metadata": {},
   "outputs": [],
   "source": [
    "#import cleaned Data\n",
    "train_X = pd.read_csv(\n",
    "    \"data/cleaned_1_train.csv\",\n",
    "    index_col=\"id\"\n",
    ")\n",
    "\n",
    "train_Y = pd.read_csv(\n",
    "    \"data/train_labels.csv\",\n",
    "    index_col=\"id\"\n",
    ")"
   ]
  },
  {
   "cell_type": "code",
   "execution_count": 222,
   "id": "46bead26",
   "metadata": {},
   "outputs": [],
   "source": [
    "# train_X, test_X, train_Y, test_Y = train_test_split(train_X, train_Y, test_size=0.2, random_state=66)"
   ]
  },
  {
   "cell_type": "code",
   "execution_count": null,
   "id": "c8d0f26d",
   "metadata": {},
   "outputs": [],
   "source": []
  },
  {
   "cell_type": "code",
   "execution_count": 223,
   "id": "c7f3b6b1",
   "metadata": {},
   "outputs": [],
   "source": [
    "# model_RFC.fit(train_X,train_Y['status_group'])"
   ]
  },
  {
   "cell_type": "code",
   "execution_count": 224,
   "id": "4d83a31b",
   "metadata": {},
   "outputs": [],
   "source": [
    "scores_RFC = cross_val_score(model_RFC, train_X, train_Y['status_group'], cv=5)"
   ]
  },
  {
   "cell_type": "code",
   "execution_count": 225,
   "id": "6cb6ea7b",
   "metadata": {},
   "outputs": [
    {
     "name": "stderr",
     "output_type": "stream",
     "text": [
      "C:\\Users\\Kasun\\anaconda3\\lib\\site-packages\\xgboost\\sklearn.py:1146: UserWarning: The use of label encoder in XGBClassifier is deprecated and will be removed in a future release. To remove this warning, do the following: 1) Pass option use_label_encoder=False when constructing XGBClassifier object; and 2) Encode your labels (y) as integers starting with 0, i.e. 0, 1, 2, ..., [num_class - 1].\n",
      "  warnings.warn(label_encoder_deprecation_msg, UserWarning)\n"
     ]
    },
    {
     "name": "stdout",
     "output_type": "stream",
     "text": [
      "[19:20:43] WARNING: C:/Users/Administrator/workspace/xgboost-win64_release_1.4.0/src/learner.cc:1095: Starting in XGBoost 1.3.0, the default evaluation metric used with the objective 'multi:softprob' was changed from 'merror' to 'mlogloss'. Explicitly set eval_metric if you'd like to restore the old behavior.\n"
     ]
    },
    {
     "name": "stderr",
     "output_type": "stream",
     "text": [
      "C:\\Users\\Kasun\\anaconda3\\lib\\site-packages\\xgboost\\sklearn.py:1146: UserWarning: The use of label encoder in XGBClassifier is deprecated and will be removed in a future release. To remove this warning, do the following: 1) Pass option use_label_encoder=False when constructing XGBClassifier object; and 2) Encode your labels (y) as integers starting with 0, i.e. 0, 1, 2, ..., [num_class - 1].\n",
      "  warnings.warn(label_encoder_deprecation_msg, UserWarning)\n"
     ]
    },
    {
     "name": "stdout",
     "output_type": "stream",
     "text": [
      "[19:20:49] WARNING: C:/Users/Administrator/workspace/xgboost-win64_release_1.4.0/src/learner.cc:1095: Starting in XGBoost 1.3.0, the default evaluation metric used with the objective 'multi:softprob' was changed from 'merror' to 'mlogloss'. Explicitly set eval_metric if you'd like to restore the old behavior.\n"
     ]
    },
    {
     "name": "stderr",
     "output_type": "stream",
     "text": [
      "C:\\Users\\Kasun\\anaconda3\\lib\\site-packages\\xgboost\\sklearn.py:1146: UserWarning: The use of label encoder in XGBClassifier is deprecated and will be removed in a future release. To remove this warning, do the following: 1) Pass option use_label_encoder=False when constructing XGBClassifier object; and 2) Encode your labels (y) as integers starting with 0, i.e. 0, 1, 2, ..., [num_class - 1].\n",
      "  warnings.warn(label_encoder_deprecation_msg, UserWarning)\n"
     ]
    },
    {
     "name": "stdout",
     "output_type": "stream",
     "text": [
      "[19:20:54] WARNING: C:/Users/Administrator/workspace/xgboost-win64_release_1.4.0/src/learner.cc:1095: Starting in XGBoost 1.3.0, the default evaluation metric used with the objective 'multi:softprob' was changed from 'merror' to 'mlogloss'. Explicitly set eval_metric if you'd like to restore the old behavior.\n"
     ]
    },
    {
     "name": "stderr",
     "output_type": "stream",
     "text": [
      "C:\\Users\\Kasun\\anaconda3\\lib\\site-packages\\xgboost\\sklearn.py:1146: UserWarning: The use of label encoder in XGBClassifier is deprecated and will be removed in a future release. To remove this warning, do the following: 1) Pass option use_label_encoder=False when constructing XGBClassifier object; and 2) Encode your labels (y) as integers starting with 0, i.e. 0, 1, 2, ..., [num_class - 1].\n",
      "  warnings.warn(label_encoder_deprecation_msg, UserWarning)\n"
     ]
    },
    {
     "name": "stdout",
     "output_type": "stream",
     "text": [
      "[19:21:00] WARNING: C:/Users/Administrator/workspace/xgboost-win64_release_1.4.0/src/learner.cc:1095: Starting in XGBoost 1.3.0, the default evaluation metric used with the objective 'multi:softprob' was changed from 'merror' to 'mlogloss'. Explicitly set eval_metric if you'd like to restore the old behavior.\n"
     ]
    }
   ],
   "source": [
    "score_XGB = cross_val_score(model_XGB, train_X, train_Y['status_group'], cv=4)"
   ]
  },
  {
   "cell_type": "code",
   "execution_count": 226,
   "id": "c5f39cd6",
   "metadata": {},
   "outputs": [
    {
     "name": "stderr",
     "output_type": "stream",
     "text": [
      "C:\\Users\\Kasun\\anaconda3\\lib\\site-packages\\sklearn\\svm\\_base.py:985: ConvergenceWarning: Liblinear failed to converge, increase the number of iterations.\n",
      "  warnings.warn(\"Liblinear failed to converge, increase \"\n",
      "C:\\Users\\Kasun\\anaconda3\\lib\\site-packages\\sklearn\\svm\\_base.py:985: ConvergenceWarning: Liblinear failed to converge, increase the number of iterations.\n",
      "  warnings.warn(\"Liblinear failed to converge, increase \"\n",
      "C:\\Users\\Kasun\\anaconda3\\lib\\site-packages\\sklearn\\svm\\_base.py:985: ConvergenceWarning: Liblinear failed to converge, increase the number of iterations.\n",
      "  warnings.warn(\"Liblinear failed to converge, increase \"\n",
      "C:\\Users\\Kasun\\anaconda3\\lib\\site-packages\\sklearn\\svm\\_base.py:985: ConvergenceWarning: Liblinear failed to converge, increase the number of iterations.\n",
      "  warnings.warn(\"Liblinear failed to converge, increase \"\n",
      "C:\\Users\\Kasun\\anaconda3\\lib\\site-packages\\sklearn\\svm\\_base.py:985: ConvergenceWarning: Liblinear failed to converge, increase the number of iterations.\n",
      "  warnings.warn(\"Liblinear failed to converge, increase \"\n"
     ]
    }
   ],
   "source": [
    "score_SVM = cross_val_score(model_SVM, train_X, train_Y['status_group'], cv=5)"
   ]
  },
  {
   "cell_type": "code",
   "execution_count": 227,
   "id": "f40171df",
   "metadata": {},
   "outputs": [
    {
     "name": "stdout",
     "output_type": "stream",
     "text": [
      "RFC - 0.80 accuracy with a standard deviation of 0.00\n"
     ]
    }
   ],
   "source": [
    "print(\"RFC - %0.2f accuracy with a standard deviation of %0.2f\" % (scores_RFC.mean(), scores_RFC.std()))"
   ]
  },
  {
   "cell_type": "code",
   "execution_count": 228,
   "id": "73acdc57",
   "metadata": {},
   "outputs": [
    {
     "name": "stdout",
     "output_type": "stream",
     "text": [
      "XGB - 0.80 accuracy with a standard deviation of 0.00\n"
     ]
    }
   ],
   "source": [
    "print(\"XGB - %0.2f accuracy with a standard deviation of %0.2f\" % (score_XGB.mean(), score_XGB.std()))"
   ]
  },
  {
   "cell_type": "code",
   "execution_count": 229,
   "id": "d6093575",
   "metadata": {},
   "outputs": [
    {
     "name": "stdout",
     "output_type": "stream",
     "text": [
      "XGB - 0.63 accuracy with a standard deviation of 0.00\n"
     ]
    }
   ],
   "source": [
    "print(\"XGB - %0.2f accuracy with a standard deviation of %0.2f\" % (score_SVM.mean(), score_XGB.std()))"
   ]
  },
  {
   "cell_type": "code",
   "execution_count": 241,
   "id": "a85922cc",
   "metadata": {},
   "outputs": [
    {
     "data": {
      "text/plain": [
       "RandomForestClassifier(random_state=1)"
      ]
     },
     "execution_count": 241,
     "metadata": {},
     "output_type": "execute_result"
    }
   ],
   "source": [
    "model_RFC.fit(train_X,train_Y['status_group'])"
   ]
  },
  {
   "cell_type": "code",
   "execution_count": 231,
   "id": "9bd1fe99",
   "metadata": {},
   "outputs": [],
   "source": [
    "# model_XGB.fit(train_X,train_Y['status_group'])"
   ]
  },
  {
   "cell_type": "code",
   "execution_count": 242,
   "id": "c782736a",
   "metadata": {},
   "outputs": [],
   "source": [
    "test = pd.read_csv(\n",
    "    \"data/cleaned_1_test.csv\",\n",
    "    index_col=\"id\"\n",
    ")\n"
   ]
  },
  {
   "cell_type": "code",
   "execution_count": 243,
   "id": "9cea66c1",
   "metadata": {},
   "outputs": [
    {
     "data": {
      "text/html": [
       "<div>\n",
       "<style scoped>\n",
       "    .dataframe tbody tr th:only-of-type {\n",
       "        vertical-align: middle;\n",
       "    }\n",
       "\n",
       "    .dataframe tbody tr th {\n",
       "        vertical-align: top;\n",
       "    }\n",
       "\n",
       "    .dataframe thead th {\n",
       "        text-align: right;\n",
       "    }\n",
       "</style>\n",
       "<table border=\"1\" class=\"dataframe\">\n",
       "  <thead>\n",
       "    <tr style=\"text-align: right;\">\n",
       "      <th></th>\n",
       "      <th>amount_tsh</th>\n",
       "      <th>longitude</th>\n",
       "      <th>latitude</th>\n",
       "      <th>region_code</th>\n",
       "      <th>district_code</th>\n",
       "      <th>population</th>\n",
       "      <th>public_meeting</th>\n",
       "      <th>permit</th>\n",
       "      <th>construction_year</th>\n",
       "      <th>funder_Danida</th>\n",
       "      <th>...</th>\n",
       "      <th>source_class_groundwater</th>\n",
       "      <th>source_class_surface</th>\n",
       "      <th>source_class_unknown</th>\n",
       "      <th>waterpoint_type_cattle trough</th>\n",
       "      <th>waterpoint_type_communal standpipe</th>\n",
       "      <th>waterpoint_type_communal standpipe multiple</th>\n",
       "      <th>waterpoint_type_dam</th>\n",
       "      <th>waterpoint_type_hand pump</th>\n",
       "      <th>waterpoint_type_improved spring</th>\n",
       "      <th>waterpoint_type_other</th>\n",
       "    </tr>\n",
       "    <tr>\n",
       "      <th>id</th>\n",
       "      <th></th>\n",
       "      <th></th>\n",
       "      <th></th>\n",
       "      <th></th>\n",
       "      <th></th>\n",
       "      <th></th>\n",
       "      <th></th>\n",
       "      <th></th>\n",
       "      <th></th>\n",
       "      <th></th>\n",
       "      <th></th>\n",
       "      <th></th>\n",
       "      <th></th>\n",
       "      <th></th>\n",
       "      <th></th>\n",
       "      <th></th>\n",
       "      <th></th>\n",
       "      <th></th>\n",
       "      <th></th>\n",
       "      <th></th>\n",
       "      <th></th>\n",
       "    </tr>\n",
       "  </thead>\n",
       "  <tbody>\n",
       "    <tr>\n",
       "      <th>50785</th>\n",
       "      <td>0.0</td>\n",
       "      <td>35.290799</td>\n",
       "      <td>-4.059696</td>\n",
       "      <td>21</td>\n",
       "      <td>3</td>\n",
       "      <td>321</td>\n",
       "      <td>1</td>\n",
       "      <td>1</td>\n",
       "      <td>2012</td>\n",
       "      <td>0</td>\n",
       "      <td>...</td>\n",
       "      <td>0</td>\n",
       "      <td>1</td>\n",
       "      <td>0</td>\n",
       "      <td>0</td>\n",
       "      <td>0</td>\n",
       "      <td>0</td>\n",
       "      <td>0</td>\n",
       "      <td>0</td>\n",
       "      <td>0</td>\n",
       "      <td>1</td>\n",
       "    </tr>\n",
       "    <tr>\n",
       "      <th>51630</th>\n",
       "      <td>0.0</td>\n",
       "      <td>36.656709</td>\n",
       "      <td>-3.309214</td>\n",
       "      <td>2</td>\n",
       "      <td>2</td>\n",
       "      <td>300</td>\n",
       "      <td>1</td>\n",
       "      <td>1</td>\n",
       "      <td>2000</td>\n",
       "      <td>0</td>\n",
       "      <td>...</td>\n",
       "      <td>1</td>\n",
       "      <td>0</td>\n",
       "      <td>0</td>\n",
       "      <td>0</td>\n",
       "      <td>1</td>\n",
       "      <td>0</td>\n",
       "      <td>0</td>\n",
       "      <td>0</td>\n",
       "      <td>0</td>\n",
       "      <td>0</td>\n",
       "    </tr>\n",
       "    <tr>\n",
       "      <th>17168</th>\n",
       "      <td>0.0</td>\n",
       "      <td>34.767863</td>\n",
       "      <td>-5.004344</td>\n",
       "      <td>13</td>\n",
       "      <td>2</td>\n",
       "      <td>500</td>\n",
       "      <td>1</td>\n",
       "      <td>1</td>\n",
       "      <td>2010</td>\n",
       "      <td>0</td>\n",
       "      <td>...</td>\n",
       "      <td>0</td>\n",
       "      <td>1</td>\n",
       "      <td>0</td>\n",
       "      <td>0</td>\n",
       "      <td>0</td>\n",
       "      <td>0</td>\n",
       "      <td>0</td>\n",
       "      <td>0</td>\n",
       "      <td>0</td>\n",
       "      <td>1</td>\n",
       "    </tr>\n",
       "    <tr>\n",
       "      <th>45559</th>\n",
       "      <td>0.0</td>\n",
       "      <td>38.058046</td>\n",
       "      <td>-9.418672</td>\n",
       "      <td>80</td>\n",
       "      <td>43</td>\n",
       "      <td>250</td>\n",
       "      <td>1</td>\n",
       "      <td>1</td>\n",
       "      <td>1987</td>\n",
       "      <td>0</td>\n",
       "      <td>...</td>\n",
       "      <td>1</td>\n",
       "      <td>0</td>\n",
       "      <td>0</td>\n",
       "      <td>0</td>\n",
       "      <td>0</td>\n",
       "      <td>0</td>\n",
       "      <td>0</td>\n",
       "      <td>0</td>\n",
       "      <td>0</td>\n",
       "      <td>1</td>\n",
       "    </tr>\n",
       "    <tr>\n",
       "      <th>49871</th>\n",
       "      <td>500.0</td>\n",
       "      <td>35.006123</td>\n",
       "      <td>-10.950412</td>\n",
       "      <td>10</td>\n",
       "      <td>3</td>\n",
       "      <td>60</td>\n",
       "      <td>1</td>\n",
       "      <td>1</td>\n",
       "      <td>2000</td>\n",
       "      <td>0</td>\n",
       "      <td>...</td>\n",
       "      <td>1</td>\n",
       "      <td>0</td>\n",
       "      <td>0</td>\n",
       "      <td>0</td>\n",
       "      <td>1</td>\n",
       "      <td>0</td>\n",
       "      <td>0</td>\n",
       "      <td>0</td>\n",
       "      <td>0</td>\n",
       "      <td>0</td>\n",
       "    </tr>\n",
       "  </tbody>\n",
       "</table>\n",
       "<p>5 rows × 121 columns</p>\n",
       "</div>"
      ],
      "text/plain": [
       "       amount_tsh  longitude   latitude  region_code  district_code  \\\n",
       "id                                                                    \n",
       "50785         0.0  35.290799  -4.059696           21              3   \n",
       "51630         0.0  36.656709  -3.309214            2              2   \n",
       "17168         0.0  34.767863  -5.004344           13              2   \n",
       "45559         0.0  38.058046  -9.418672           80             43   \n",
       "49871       500.0  35.006123 -10.950412           10              3   \n",
       "\n",
       "       population  public_meeting  permit  construction_year  funder_Danida  \\\n",
       "id                                                                            \n",
       "50785         321               1       1               2012              0   \n",
       "51630         300               1       1               2000              0   \n",
       "17168         500               1       1               2010              0   \n",
       "45559         250               1       1               1987              0   \n",
       "49871          60               1       1               2000              0   \n",
       "\n",
       "       ...  source_class_groundwater  source_class_surface  \\\n",
       "id     ...                                                   \n",
       "50785  ...                         0                     1   \n",
       "51630  ...                         1                     0   \n",
       "17168  ...                         0                     1   \n",
       "45559  ...                         1                     0   \n",
       "49871  ...                         1                     0   \n",
       "\n",
       "       source_class_unknown  waterpoint_type_cattle trough  \\\n",
       "id                                                           \n",
       "50785                     0                              0   \n",
       "51630                     0                              0   \n",
       "17168                     0                              0   \n",
       "45559                     0                              0   \n",
       "49871                     0                              0   \n",
       "\n",
       "       waterpoint_type_communal standpipe  \\\n",
       "id                                          \n",
       "50785                                   0   \n",
       "51630                                   1   \n",
       "17168                                   0   \n",
       "45559                                   0   \n",
       "49871                                   1   \n",
       "\n",
       "       waterpoint_type_communal standpipe multiple  waterpoint_type_dam  \\\n",
       "id                                                                        \n",
       "50785                                            0                    0   \n",
       "51630                                            0                    0   \n",
       "17168                                            0                    0   \n",
       "45559                                            0                    0   \n",
       "49871                                            0                    0   \n",
       "\n",
       "       waterpoint_type_hand pump  waterpoint_type_improved spring  \\\n",
       "id                                                                  \n",
       "50785                          0                                0   \n",
       "51630                          0                                0   \n",
       "17168                          0                                0   \n",
       "45559                          0                                0   \n",
       "49871                          0                                0   \n",
       "\n",
       "       waterpoint_type_other  \n",
       "id                            \n",
       "50785                      1  \n",
       "51630                      0  \n",
       "17168                      1  \n",
       "45559                      1  \n",
       "49871                      0  \n",
       "\n",
       "[5 rows x 121 columns]"
      ]
     },
     "execution_count": 243,
     "metadata": {},
     "output_type": "execute_result"
    }
   ],
   "source": [
    "test.head()"
   ]
  },
  {
   "cell_type": "code",
   "execution_count": 234,
   "id": "544130cd",
   "metadata": {},
   "outputs": [],
   "source": [
    "# predictions_RFC = model_RFC.predict(test_X)"
   ]
  },
  {
   "cell_type": "code",
   "execution_count": 235,
   "id": "26f83085",
   "metadata": {},
   "outputs": [],
   "source": [
    "# prediction_DF = pd.DataFrame(predictions_RFC)\n",
    "# prediction_DF.value_counts()"
   ]
  },
  {
   "cell_type": "code",
   "execution_count": 236,
   "id": "920c8727",
   "metadata": {},
   "outputs": [],
   "source": [
    "# accuracy = accuracy_score(test_Y, predictions_RFC)\n",
    "# print(accuracy)"
   ]
  },
  {
   "cell_type": "code",
   "execution_count": 244,
   "id": "03ef454a",
   "metadata": {},
   "outputs": [],
   "source": [
    "prediction_real = model_RFC.predict(test)"
   ]
  },
  {
   "cell_type": "code",
   "execution_count": 245,
   "id": "0c1c9e95",
   "metadata": {},
   "outputs": [
    {
     "data": {
      "text/plain": [
       "functional                 8643\n",
       "non functional             5458\n",
       "functional needs repair     749\n",
       "dtype: int64"
      ]
     },
     "execution_count": 245,
     "metadata": {},
     "output_type": "execute_result"
    }
   ],
   "source": [
    "prediction_real_DF = pd.DataFrame(prediction_real)\n",
    "prediction_real_DF.value_counts()"
   ]
  },
  {
   "cell_type": "code",
   "execution_count": 247,
   "id": "f80f5cdb",
   "metadata": {},
   "outputs": [],
   "source": [
    "submission = pd.read_csv(\n",
    "    \"data/SubmissionFormat.csv\",\n",
    "    index_col=\"id\"\n",
    ")\n"
   ]
  },
  {
   "cell_type": "code",
   "execution_count": 248,
   "id": "6441a5db",
   "metadata": {},
   "outputs": [],
   "source": [
    "submission[\"status_group\"] = prediction_real\n",
    "\n",
    "submission.to_csv('submission_3.csv', index=True)"
   ]
  },
  {
   "cell_type": "code",
   "execution_count": 249,
   "id": "47920bad",
   "metadata": {},
   "outputs": [
    {
     "data": {
      "text/plain": [
       "array([0.80690236, 0.79991582, 0.80353535, 0.7996633 , 0.80075758])"
      ]
     },
     "execution_count": 249,
     "metadata": {},
     "output_type": "execute_result"
    }
   ],
   "source": [
    "scores_RFC"
   ]
  },
  {
   "cell_type": "code",
   "execution_count": 250,
   "id": "2592e4b2",
   "metadata": {},
   "outputs": [
    {
     "data": {
      "text/plain": [
       "array([0.80087542, 0.79569024, 0.79084175, 0.79387205])"
      ]
     },
     "execution_count": 250,
     "metadata": {},
     "output_type": "execute_result"
    }
   ],
   "source": [
    "score_XGB"
   ]
  },
  {
   "cell_type": "code",
   "execution_count": null,
   "id": "c934cfc5",
   "metadata": {},
   "outputs": [],
   "source": []
  }
 ],
 "metadata": {
  "kernelspec": {
   "display_name": "Python 3",
   "language": "python",
   "name": "python3"
  },
  "language_info": {
   "codemirror_mode": {
    "name": "ipython",
    "version": 3
   },
   "file_extension": ".py",
   "mimetype": "text/x-python",
   "name": "python",
   "nbconvert_exporter": "python",
   "pygments_lexer": "ipython3",
   "version": "3.8.8"
  }
 },
 "nbformat": 4,
 "nbformat_minor": 5
}
